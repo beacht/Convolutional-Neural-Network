{
  "cells": [
    {
      "cell_type": "markdown",
      "source": [
        "# YOUR NAME HERE: "
      ],
      "metadata": {
        "id": "z0Flyu1932QQ"
      }
    },
    {
      "cell_type": "markdown",
      "metadata": {
        "id": "5ybGKx57Pk1m"
      },
      "source": [
        "# A5 Convolutional Neural Network (Total 150pts)\n"
      ]
    },
    {
      "cell_type": "markdown",
      "source": [
        "## 1. Import libraries (Total 6pts)"
      ],
      "metadata": {
        "id": "DVP7tS--i3RX"
      }
    },
    {
      "cell_type": "markdown",
      "source": [
        "### 1.1 Import torch, torchvision, torchvision.transforms, torch.utils.data and torch.nn (6pts)"
      ],
      "metadata": {
        "id": "u58q6TY6ZIog"
      }
    },
    {
      "cell_type": "code",
      "source": [
        "# TODO"
      ],
      "metadata": {
        "id": "5PQaDXCRZILB"
      },
      "execution_count": 11,
      "outputs": []
    },
    {
      "cell_type": "markdown",
      "metadata": {
        "id": "aPlUbT1LUOXw"
      },
      "source": [
        "## 2. Data Preparation (Total 32pts)\n"
      ]
    },
    {
      "cell_type": "markdown",
      "source": [
        "### 2.1 Image Transformation (12pts)\n",
        "Define a transformation pipeline using torchvision.transforms.Compose.\n",
        "\n",
        "In the pipeline, use **ColorJitter, GaussianBlur, RandomHorizontalFlip, ToTensor and Normalize** from the transforms library.\n",
        "\n",
        "For the first four transformations, use suitable parameters of your informed choice. At the end, normalize the images with mean 0.5 and variance 0.5.\n",
        "\n",
        "Read about these transformations here: https://pytorch.org/vision/0.9/transforms.html"
      ],
      "metadata": {
        "id": "6aJns258Ygtk"
      }
    },
    {
      "cell_type": "code",
      "source": [
        "# TODO\n"
      ],
      "metadata": {
        "id": "3L1sTEpVY-Ks"
      },
      "execution_count": 12,
      "outputs": []
    },
    {
      "cell_type": "markdown",
      "source": [
        "### 2.2 Prepare train and test set by loading CIFAR10 dataset from torchvision.datasets. (4pts)\n",
        "Make sure you are using the **transform** pipeline (you just wrote in task #2.1) on both train and test set. \n",
        "\n",
        "**Hint:** Preparing train and test sets can be directly achieved by utilizing the class parameters.\n",
        "\n",
        "\n",
        "Read about CIFAR10 dataset class in PyTorch: https://pytorch.org/vision/0.9/datasets.html#cifar"
      ],
      "metadata": {
        "id": "OdjyzDc-ZViW"
      }
    },
    {
      "cell_type": "code",
      "execution_count": 13,
      "metadata": {
        "id": "RLPlRVeuPcqG"
      },
      "outputs": [],
      "source": [
        "# TODO"
      ]
    },
    {
      "cell_type": "markdown",
      "source": [
        "### 2.3 Use torch.utils.data.random_split() to make a validation set from the training set with 80:20 split. (3pts)\n",
        "\n",
        "Make sure the training set you'll use after this point excludes the validation set of images \n"
      ],
      "metadata": {
        "id": "1fv4E4y4EWVY"
      }
    },
    {
      "cell_type": "code",
      "source": [
        "# TODO"
      ],
      "metadata": {
        "id": "5xcbx036EV0B"
      },
      "execution_count": 14,
      "outputs": []
    },
    {
      "cell_type": "markdown",
      "source": [
        "### 2.4 Prepare three dataloaders for train, validation and test set. Use an appropriate batchsize of your choice. (1+2+2+2 =7pts)\n",
        "\n",
        "\n",
        "**Hints:**\n",
        "1. Remember that choosing a batchsize is always a trade-off between efficiency and generalizability. With large batchsize, your model learns more and better in each forward pass, but each pass will require larger computation. On the other hand, with small batchsize, it might converge quicker, but each forward pass teaches features from a smaller subset, which may not be a good representation of the overall data; leading to jittery convergence.\n",
        "2. During training, you will use the train and validation set for tracking the loss and avoiding overfitting. The test set will be hold out until you are ready to evaluate a trained model on new data. \n",
        "\n",
        "Read about pytorch Dataloaders here:\n",
        "https://pytorch.org/tutorials/beginner/basics/data_tutorial.html#preparing-your-data-for-training-with-dataloaders"
      ],
      "metadata": {
        "id": "VdARFhumrvz3"
      }
    },
    {
      "cell_type": "code",
      "source": [
        "# TODO: set a batch size\n",
        "\n",
        "\n",
        "# TODO: write dataloader for train set\n",
        "\n",
        "\n",
        "# TODO: write dataloader for test set\n",
        "\n",
        "\n",
        "# TODO: write dataloader for validation set\n",
        "\n"
      ],
      "metadata": {
        "id": "XNi2NNQ2rhEp"
      },
      "execution_count": 15,
      "outputs": []
    },
    {
      "cell_type": "markdown",
      "source": [
        "### 2.5 Load a random batch of images from the training set using the trainloader. Then use *make_grid()*  from *torchvision.utils* and *imshow()* from *matplotlib.pyplot* to show the images. Also, print the corresponding true labels for those image samples. (6pts)\n",
        "Hint: you may need to reshape the *make_grid()* output to comply with the format *imshow()* accepts."
      ],
      "metadata": {
        "id": "fso-pay0yLOF"
      }
    },
    {
      "cell_type": "code",
      "execution_count": 16,
      "metadata": {
        "id": "b-uAZo9Ui8rA"
      },
      "outputs": [],
      "source": [
        "# TODO: load a random batch of test set images\n",
        "\n",
        "\n",
        "# TODO: show the images\n",
        "\n",
        "\n",
        "# TODO: print the ground truth class labels for these images\n",
        "\n"
      ]
    },
    {
      "cell_type": "markdown",
      "metadata": {
        "id": "_BGKE4TkUR2q"
      },
      "source": [
        "## 3. Model Design (Total 22pts)"
      ]
    },
    {
      "cell_type": "markdown",
      "source": [
        "### 3.1 Define a neural network model: (2+7+7 =16pts)\n",
        "- Name the model class with your first name\n",
        "- In the following sequential order, the model should consist:\n",
        "\n",
        "    (1) a 2D convolution layer with 6 filters, dimension of each filter is (5, 5), stride=1, no zero padding\n",
        "    \n",
        "    (2) a Max Pool layer with filter size (2, 2), stride=2\n",
        "    \n",
        "    (3) a 2D convolution layer with 16 filters, dimension of each filter is (5, 5), stride=1, no zero padding\n",
        "\n",
        "    (4) a 2D Max Pool layer with filter size (2, 2), stride=2\n",
        "    \n",
        "    ~ a flatten layer ~\n",
        "\n",
        "    (5) a Dense/Fully-connected layer with 120 neurons\n",
        "    \n",
        "    ~ a ReLU activation ~\n",
        "    \n",
        "    ~ a Dropout Layer ~\n",
        "\n",
        "    (6) a Dense/Fully-connected layer with 80 neurons\n",
        "    \n",
        "    ~ a ReLU activation ~\n",
        "\n",
        "    (7) a Dense/Fully-connected layer with 10 neurons\n",
        "\n",
        "Note: \n",
        "1. Flatten, ReLU and Dropout are not really \"layers\". They are operations with specific purpose. But in model construction in pytorch, they are abstracted as layers.\n",
        "    \n",
        "    Flatten is used to convert the 4th layer output to a 1D tensor so that it can be passed through the next fully-connected layer. Since each forward pass takes a batch of data, use the *start_dim* parameter of *torch.flatten()* appropriately to keep the batch dimension intact.\n",
        "    \n",
        "    ReLU is an activation that transforms the Dense Layer's linear output to a non-linear \"active\" output.\n",
        "    \n",
        "    Dropout is a regularization technique. Read more in slides. In this assignment, you can drop neurons with 50% probability. \n",
        "\n",
        "2. This dataset has 10 classes, hence the final layer consists 10 neurons. \n",
        "\n",
        "3. The model architecture is similar to the one you saw in in-class Quiz 2, with an extra dense layer in the end. \n",
        "\n",
        "    Read about building your custom model in pytorch here: https://pytorch.org/tutorials/beginner/introyt/modelsyt_tutorial.html\n",
        "\n",
        "    The official pytorch documentation on conv, flatten, rely, dense are also resourceful.\n"
      ],
      "metadata": {
        "id": "uT4AFLfO0iQi"
      }
    },
    {
      "cell_type": "code",
      "execution_count": null,
      "metadata": {
        "id": "825WS6h7UQx4"
      },
      "outputs": [],
      "source": [
        "class YourName(nn.Module):\n",
        "    def __init__(self):\n",
        "        # TODO: Initialize the layers\n",
        "        \n",
        "\n",
        "    def forward(self, x):\n",
        "        # TODO: Define the dataflow through the layers"
      ]
    },
    {
      "cell_type": "markdown",
      "source": [
        "### 3.2 Create an instance of the model class that you just prepared. (2pts)"
      ],
      "metadata": {
        "id": "ikcGyq4q6UHV"
      }
    },
    {
      "cell_type": "code",
      "execution_count": 24,
      "metadata": {
        "id": "g1rdVDhTUk2J"
      },
      "outputs": [],
      "source": [
        "# TODO:\n",
        "\n"
      ]
    },
    {
      "cell_type": "markdown",
      "source": [
        "### 3.3 Set up Cross Entropy Loss as the loss function and *Adam* as the optimizer. Use a learning rate of your choice for the optimizer. (4pts) \n"
      ],
      "metadata": {
        "id": "xr5Nkses6boD"
      }
    },
    {
      "cell_type": "code",
      "execution_count": 25,
      "metadata": {
        "id": "NuJa233WUmE-"
      },
      "outputs": [],
      "source": [
        "# TODO: Define the loss function and optimizer\n",
        "\n"
      ]
    },
    {
      "cell_type": "markdown",
      "metadata": {
        "id": "D1gE9KU6UYEg"
      },
      "source": [
        "## 4. Training and Validation (Total 50pts)\n"
      ]
    },
    {
      "cell_type": "markdown",
      "source": [
        "### 4.1 Write a training loop to load data, compute model output, compute loss and backpropagating it to update model parameters. (30pts)\n",
        "\n",
        "The # TODO tags below contain further instructions. "
      ],
      "metadata": {
        "id": "aPyjTxYmB3mR"
      }
    },
    {
      "cell_type": "code",
      "execution_count": 18,
      "metadata": {
        "id": "IRQ6CRuLUpaD"
      },
      "outputs": [],
      "source": [
        "# TODO: Define number of epochs\n",
        "\n",
        "\n",
        "# TODO: Initialize empty lists to store training loss, training accuracy, validation loss, validation accuracy \n",
        "# You will use these lists to plot the loss history.\n",
        "\n",
        "\n",
        "# TODO: Loop through the number of epochs\n",
        "\n",
        "    # TODO: set model to train mode\n",
        "    \n",
        "\n",
        "    # TODO: iterate over the training data in batches\n",
        "    \n",
        "        \n",
        "        # TODO: get the image inputs and labels from current batch\n",
        "        \n",
        "        \n",
        "        # TODO: set the optimizer gradients to zero to avoid accumulation of gradients\n",
        "        \n",
        "\n",
        "        # TODO: compute the output of the model\n",
        "        \n",
        "\n",
        "        # TODO: compute the loss on current batch\n",
        "        \n",
        "        \n",
        "        # TODO: backpropagate the loss\n",
        "        \n",
        "\n",
        "        # TODO: update the optimizer parameters\n",
        "        \n",
        "\n",
        "        # TODO: update the train loss and accuracy\n",
        "        \n",
        "\n",
        "    # TODO: compute the average training loss and accuracy and store in respective arrays\n",
        "    \n",
        "\n",
        "    # TODO: set the model to evaluation mode\n",
        "    \n",
        "\n",
        "    # TODO: keeping the gradient computation turned off, loop over batches of data from validation set.\n",
        "    \n",
        "            # TODO: compute output of the model\n",
        "            \n",
        "\n",
        "            # TODO: compute the loss\n",
        "            \n",
        "            \n",
        "            # TODO: compute the validation loss and accuracy\n",
        "            \n",
        "\n",
        "    # TODO: compute the average validation loss and accuracy and store in respective lists\n",
        "    \n",
        "\n",
        "    # TODO: print the training loss, training accuracy, validation loss and validation accuracy at the end of each epoch\n",
        "    \n",
        "\n",
        "    # TODO: save the model parameters once in every 5 epochs\n",
        "    \n",
        "    "
      ]
    },
    {
      "cell_type": "markdown",
      "source": [
        "### 4.2 Plot and compare (5+5 =10pts)\n",
        "1. training and validation loss over the number of epochs\n",
        "2. training and validation accuracy over the number of epochs\n",
        "\n",
        "(Hint: Use plot() from *matplotlib.pyplot*, import it if you haven't already done so.)"
      ],
      "metadata": {
        "id": "8fHqWfUu38c9"
      }
    },
    {
      "cell_type": "code",
      "execution_count": 19,
      "metadata": {
        "id": "v1-ES2jFXUkO"
      },
      "outputs": [],
      "source": [
        "# TODO: plot the training and validation loss\n",
        "\n",
        "\n",
        "\n",
        "# TODO: plot the training and validation accuracy\n",
        "\n",
        "\n"
      ]
    },
    {
      "cell_type": "markdown",
      "source": [
        "### 4.3 Discussion: (2*5 = 10pts)\n",
        "(1) Does the training loss and accuracy improve as number of epoch increases?\n",
        "\n",
        "(2) Does the validation loss and accuracy improve as number of epoch increases?\n",
        "\n",
        "(3) Are there any sign of overfitting in the results? If so, when did it start to occur?\n",
        "\n",
        "(4) How many epochs did it take for the model to converge to a good solution?\n",
        "\n",
        "(5) What enhancement can be tried to the architecture to further improve the validation performance?"
      ],
      "metadata": {
        "id": "_9QZka69C21Z"
      }
    },
    {
      "cell_type": "markdown",
      "source": [
        "~ # TODO"
      ],
      "metadata": {
        "id": "Y_EdvCc6D_p9"
      }
    },
    {
      "cell_type": "markdown",
      "metadata": {
        "id": "P68A6mXEUcp0"
      },
      "source": [
        "## 5. Testing on new data (Total 40pts)\n"
      ]
    },
    {
      "cell_type": "markdown",
      "source": [
        "### 5.1 Load the best performing model (one with good validation accuracy and without overfitting) among the ones you saved. (4pts)"
      ],
      "metadata": {
        "id": "9xvVXl19VaP2"
      }
    },
    {
      "cell_type": "code",
      "source": [
        "# TODO: instantiate a model\n",
        "\n",
        "\n",
        "# TODO: load parameters from one of the saved model states\n",
        "\n",
        "\n",
        "# TODO: set this model to evaluation mode \n",
        "\n"
      ],
      "metadata": {
        "id": "eIKphuXBVgKe"
      },
      "execution_count": 20,
      "outputs": []
    },
    {
      "cell_type": "markdown",
      "source": [
        "### 5.2 Take a random batch of images from test set and show the images. Print the corresponding ground truth class labels. Then compute model output (model selected at previous step) and the predicted labels for the images in this batch. (10pts)\n",
        "\n",
        "This is similar to task #2.5 with additional task on computing model output and printing predicted labels."
      ],
      "metadata": {
        "id": "yx7EXuj3EnC9"
      }
    },
    {
      "cell_type": "code",
      "execution_count": 21,
      "metadata": {
        "id": "GXPZTs1vUfoG"
      },
      "outputs": [],
      "source": [
        "# TODO: load a random batch of test set images\n",
        "\n",
        "\n",
        "# TODO: show the images\n",
        "\n",
        "\n",
        "# TODO: print the ground truth class labels for these images\n",
        "\n",
        "\n",
        "# TODO: compute model output\n",
        "\n",
        "\n",
        "# TODO: print the predicted class labels for these images\n",
        "\n"
      ]
    },
    {
      "cell_type": "markdown",
      "source": [
        "### 5.3 Compute the average accuracy on test data using this model. (4+2 =6pts)\n",
        "Loop over the test set, compute accuracy on each batch, lastly print the average accuracy. "
      ],
      "metadata": {
        "id": "kBDJ6Sr-FQde"
      }
    },
    {
      "cell_type": "code",
      "source": [
        "# TODO: compute accuracy on each batch of test set\n",
        "\n",
        "\n",
        "\n",
        "# TODO: print the average accuracy\n",
        "\n"
      ],
      "metadata": {
        "id": "0n8MHS1BK3gd"
      },
      "execution_count": 22,
      "outputs": []
    },
    {
      "cell_type": "markdown",
      "source": [
        "### 5.4 Compute the average accuracy for each individual class. (8+4 =12pts)\n",
        "Hint: similar to #5.3. During each loop, log the accuracy for each class separately (a python/numpy dictionary can help). Then print the individual accuracy for the 10 output classes. "
      ],
      "metadata": {
        "id": "zYWWJo7yFsxN"
      }
    },
    {
      "cell_type": "code",
      "source": [
        "# TODO: compute per-class accuracy on each batch of test set\n",
        "\n",
        "\n",
        "\n",
        "\n",
        "# TODO: print per-class accuracy for 10 output classes\n",
        "\n"
      ],
      "metadata": {
        "id": "4AhIyXe1Rmkq"
      },
      "execution_count": 23,
      "outputs": []
    },
    {
      "cell_type": "markdown",
      "source": [
        "### 5.5 Discussion: (2+2+4 =8pts)\n",
        "1. Which class of images were detected with highest accuracy? \n",
        "2. Which class of images were hardest for the model to detect? \n",
        "3. Explain 1-2 possible reasons why detection of some class can be harder for the same model. "
      ],
      "metadata": {
        "id": "0HJVKMSUGnMW"
      }
    },
    {
      "cell_type": "markdown",
      "source": [
        "~ # TODO"
      ],
      "metadata": {
        "id": "bYdbEUN_G00t"
      }
    }
  ],
  "metadata": {
    "colab": {
      "provenance": []
    },
    "kernelspec": {
      "display_name": "Python 3",
      "name": "python3"
    },
    "language_info": {
      "name": "python"
    }
  },
  "nbformat": 4,
  "nbformat_minor": 0
}